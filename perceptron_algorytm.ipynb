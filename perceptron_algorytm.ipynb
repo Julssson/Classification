{
 "cells": [
  {
   "cell_type": "code",
   "execution_count": 22,
   "id": "088dfc8d",
   "metadata": {},
   "outputs": [],
   "source": [
    "import numpy as np\n",
    "from random import random\n",
    "import pandas as pd"
   ]
  },
  {
   "cell_type": "code",
   "execution_count": 23,
   "id": "b1cabe21",
   "metadata": {},
   "outputs": [],
   "source": [
    "def activ(x):\n",
    "    \"\"\"Funkcja aktywacji signum.\"\"\"\n",
    "    if x > 0 :\n",
    "        return 1\n",
    "    else:\n",
    "        return -1"
   ]
  },
  {
   "cell_type": "code",
   "execution_count": 24,
   "id": "271c6ff2",
   "metadata": {},
   "outputs": [],
   "source": [
    "def perceptron(x,y, func):\n",
    "    \"\"\"\n",
    "    Implementacja algorytmu perceptronu.\n",
    "    \n",
    "    Parametry:\n",
    "    x - macierz wejść (dane uczące)\n",
    "    y - wektor oczekiwanych wyników (etykiety)\n",
    "    func - funkcja aktywacji\n",
    "    \n",
    "    Zwraca:\n",
    "    w - wektor wag\n",
    "    theta - wartość biasu (przesunięcia)\n",
    "    \"\"\"\n",
    "    # Inicjalizacja wag i biasu losowymi wartościami\n",
    "    w = [random() for i in range(3)]\n",
    "    theta = random()\n",
    "    while True:\n",
    "        temp = 0\n",
    "        idx = 0\n",
    "        \n",
    "        # Sprawdzamy, które przykłady są klasyfikowane poprawnie\n",
    "        for i in range(len(x)):\n",
    "            if func(np.dot(x[i], w) + theta) == y[i]:\n",
    "                temp += 1\n",
    "            else:\n",
    "                idx = i\n",
    "                break\n",
    "        # Jeżeli wszystkie przykłady są klasyfikowane poprawnie, kończymy\n",
    "        if temp == len(x):\n",
    "            break\n",
    "        \n",
    "        # Modyfikujemy wagi i bias na podstawie pierwszego błędnie klasyfikowanego przykładu\n",
    "        w = w + y[idx] * x[idx]\n",
    "        theta = theta + y[idx]\n",
    "    \n",
    "    return w, theta"
   ]
  },
  {
   "cell_type": "code",
   "execution_count": 43,
   "id": "998f5db5",
   "metadata": {},
   "outputs": [
    {
     "name": "stdout",
     "output_type": "stream",
     "text": [
      "-1.3477922100160504\n",
      "3.148565749641627\n",
      "-1.9725918648347727\n"
     ]
    }
   ],
   "source": [
    "# Przykładowe dane uczące (owoce)\n",
    "p1 = np.array([1, -1, -1])  # Pomarańcza\n",
    "j = np.array([1, 1, -1])    # Jabłko\n",
    "p2 = np.array([-1, -1, -1]) # Owalna pomarańcza\n",
    "\n",
    "x = np.array([p1, j])   # Macierz wejść\n",
    "y = np.array([-1, 1])   # Oczekiwane wyniki\n",
    "\n",
    "# Uczenie perceptronu\n",
    "wagi, th = perceptron(x, y, activ)\n",
    "\n",
    "# Sprawdzanie wyników\n",
    "print(np.dot(wagi, x[0]) + th) # Pomarańcza\n",
    "print(np.dot(wagi, x[1]) + th) # Jabłko\n",
    "print(np.dot(wagi, p2) + th) # Owalna pomarańcza - test"
   ]
  }
 ],
 "metadata": {
  "kernelspec": {
   "display_name": "Python 3",
   "language": "python",
   "name": "python3"
  },
  "language_info": {
   "codemirror_mode": {
    "name": "ipython",
    "version": 3
   },
   "file_extension": ".py",
   "mimetype": "text/x-python",
   "name": "python",
   "nbconvert_exporter": "python",
   "pygments_lexer": "ipython3",
   "version": "3.8.8"
  }
 },
 "nbformat": 4,
 "nbformat_minor": 5
}
